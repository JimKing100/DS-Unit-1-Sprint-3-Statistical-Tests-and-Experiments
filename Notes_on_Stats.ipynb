{
  "nbformat": 4,
  "nbformat_minor": 0,
  "metadata": {
    "colab": {
      "name": "Notes on Stats.ipynb",
      "version": "0.3.2",
      "provenance": [],
      "collapsed_sections": [],
      "include_colab_link": true
    },
    "kernelspec": {
      "name": "python3",
      "display_name": "Python 3"
    }
  },
  "cells": [
    {
      "cell_type": "markdown",
      "metadata": {
        "id": "view-in-github",
        "colab_type": "text"
      },
      "source": [
        "<a href=\"https://colab.research.google.com/github/JimKing100/DS-Unit-1-Sprint-3-Statistical-Tests-and-Experiments/blob/master/Notes_on_Stats.ipynb\" target=\"_parent\"><img src=\"https://colab.research.google.com/assets/colab-badge.svg\" alt=\"Open In Colab\"/></a>"
      ]
    },
    {
      "cell_type": "markdown",
      "metadata": {
        "id": "CO6T9PSKLSNV",
        "colab_type": "text"
      },
      "source": [
        "### DS-Unit-1-Sprint-3-Statistical-Tests-and-Experiments"
      ]
    },
    {
      "cell_type": "markdown",
      "metadata": {
        "id": "LtDwBgjCNkr0",
        "colab_type": "text"
      },
      "source": [
        "#### Set theory and probability - permutations, combinations, expected values, variance, binomial distribution and Bernoulli trials"
      ]
    },
    {
      "cell_type": "code",
      "metadata": {
        "id": "Rx5C5zAJLRGq",
        "colab_type": "code",
        "colab": {
          "base_uri": "https://localhost:8080/",
          "height": 119
        },
        "outputId": "b505f583-c3c6-4393-94c2-49c62a76b1ff"
      },
      "source": [
        "# A Python program to print all permutations using library function \n",
        "from itertools import permutations \n",
        "\n",
        "perm = permutations([1, 2, 3]) \n",
        "  for i in list(perm): \n",
        "    print(i)"
      ],
      "execution_count": 2,
      "outputs": [
        {
          "output_type": "stream",
          "text": [
            "(1, 2, 3)\n",
            "(1, 3, 2)\n",
            "(2, 1, 3)\n",
            "(2, 3, 1)\n",
            "(3, 1, 2)\n",
            "(3, 2, 1)\n"
          ],
          "name": "stdout"
        }
      ]
    },
    {
      "cell_type": "code",
      "metadata": {
        "id": "iLakE-0gPu7P",
        "colab_type": "code",
        "colab": {
          "base_uri": "https://localhost:8080/",
          "height": 68
        },
        "outputId": "0a39eb50-4ae4-4e99-b5bf-4eca78c2afda"
      },
      "source": [
        "# A Python program to print all combinations of given length \n",
        "from itertools import combinations \n",
        " \n",
        "comb = combinations([1, 2, 3], 2) \n",
        "for i in list(comb): \n",
        "    print(i) "
      ],
      "execution_count": 4,
      "outputs": [
        {
          "output_type": "stream",
          "text": [
            "(1, 2)\n",
            "(1, 3)\n",
            "(2, 3)\n"
          ],
          "name": "stdout"
        }
      ]
    },
    {
      "cell_type": "markdown",
      "metadata": {
        "id": "W4pR_fQDWZB9",
        "colab_type": "text"
      },
      "source": [
        "#### Mean, variance and standard deviation"
      ]
    },
    {
      "cell_type": "code",
      "metadata": {
        "id": "QV_cdS6fU1Sc",
        "colab_type": "code",
        "colab": {
          "base_uri": "https://localhost:8080/",
          "height": 357
        },
        "outputId": "a73a369b-3f7c-4531-d3a6-4d1084e48c16"
      },
      "source": [
        "# Imports\n",
        "from numpy import array\n",
        "from numpy import mean\n",
        "from numpy import var\n",
        "from numpy import std\n",
        "\n",
        "# Mean of one array\n",
        "v = array([1,2,3,4,5,6])\n",
        "print(v)\n",
        "result = mean(v)\n",
        "print(result, '\\n')\n",
        "\n",
        "# Mean of a matrix (column and row) means\n",
        "M = array([[1,2,3,4,5,6],[1,2,3,4,5,6]])\n",
        "print(M)\n",
        "col_mean = mean(M, axis=0)\n",
        "print(col_mean)\n",
        "row_mean = mean(M, axis=1)\n",
        "print(row_mean, '\\n')\n",
        "\n",
        "# Variance of one array\n",
        "v = array([1,2,3,4,5,6])\n",
        "print(v)\n",
        "result = var(v, ddof=1)\n",
        "print(result, '\\n')\n",
        "\n",
        "# Variance of a matrix\n",
        "M = array([[1,2,3,4,5,6],[1,2,3,4,5,6]])\n",
        "print(M)\n",
        "col_mean = var(M, ddof=1, axis=0)\n",
        "print(col_mean)\n",
        "row_mean = var(M, ddof=1, axis=1)\n",
        "print(row_mean, '\\n')\n",
        "\n",
        "# Standard deviation\n",
        "M = array([[1,2,3,4,5,6],[1,2,3,4,5,6]])\n",
        "print(M)\n",
        "col_mean = std(M, ddof=1, axis=0)\n",
        "print(col_mean)\n",
        "row_mean = std(M, ddof=1, axis=1)\n",
        "print(row_mean)"
      ],
      "execution_count": 24,
      "outputs": [
        {
          "output_type": "stream",
          "text": [
            "[1 2 3 4 5 6]\n",
            "3.5 \n",
            "\n",
            "[[1 2 3 4 5 6]\n",
            " [1 2 3 4 5 6]]\n",
            "[1. 2. 3. 4. 5. 6.]\n",
            "[3.5 3.5] \n",
            "\n",
            "[1 2 3 4 5 6]\n",
            "3.5 \n",
            "\n",
            "[[1 2 3 4 5 6]\n",
            " [1 2 3 4 5 6]]\n",
            "[0. 0. 0. 0. 0. 0.]\n",
            "[3.5 3.5] \n",
            "\n",
            "[[1 2 3 4 5 6]\n",
            " [1 2 3 4 5 6]]\n",
            "[0. 0. 0. 0. 0. 0.]\n",
            "[1.87082869 1.87082869]\n"
          ],
          "name": "stdout"
        }
      ]
    },
    {
      "cell_type": "markdown",
      "metadata": {
        "id": "hP21FkMdUiOV",
        "colab_type": "text"
      },
      "source": [
        "#### Expected values and chi-square test"
      ]
    },
    {
      "cell_type": "code",
      "metadata": {
        "id": "L09nRbeeQTHW",
        "colab_type": "code",
        "colab": {
          "base_uri": "https://localhost:8080/",
          "height": 312
        },
        "outputId": "864689ca-5409-4a60-d2a2-06b833258f76"
      },
      "source": [
        "# Expected value for a table\n",
        "import pandas as pd\n",
        "import numpy as np\n",
        "\n",
        "# Create the education table\n",
        "df = pd.read_csv('https://raw.githubusercontent.com/ryanleeallred/datasets/master/adult.csv', na_values=\" ?\")\n",
        "print(df.shape)\n",
        "df.head()\n",
        "# Observed values\n",
        "df.sort_values(by='education', ascending=True)\n",
        "contingency_table = pd.crosstab(df['sex'], df['education'], margins=True)\n",
        "# Create a subset of just high school, bachelors, masters and doctorate\n",
        "education_table = contingency_table[[' 12th', ' Bachelors', ' Masters', ' Doctorate']]\n",
        "# Create a sum column\n",
        "education_table['All'] = education_table.apply(lambda row: row[' 12th'] + row[' Bachelors'] + row[' Masters'] + row[' Doctorate'], axis=1)\n",
        "education_table"
      ],
      "execution_count": 14,
      "outputs": [
        {
          "output_type": "stream",
          "text": [
            "(32561, 15)\n"
          ],
          "name": "stdout"
        },
        {
          "output_type": "stream",
          "text": [
            "/usr/local/lib/python3.6/dist-packages/ipykernel_launcher.py:14: SettingWithCopyWarning: \n",
            "A value is trying to be set on a copy of a slice from a DataFrame.\n",
            "Try using .loc[row_indexer,col_indexer] = value instead\n",
            "\n",
            "See the caveats in the documentation: http://pandas.pydata.org/pandas-docs/stable/indexing.html#indexing-view-versus-copy\n",
            "  \n"
          ],
          "name": "stderr"
        },
        {
          "output_type": "execute_result",
          "data": {
            "text/html": [
              "<div>\n",
              "<style scoped>\n",
              "    .dataframe tbody tr th:only-of-type {\n",
              "        vertical-align: middle;\n",
              "    }\n",
              "\n",
              "    .dataframe tbody tr th {\n",
              "        vertical-align: top;\n",
              "    }\n",
              "\n",
              "    .dataframe thead th {\n",
              "        text-align: right;\n",
              "    }\n",
              "</style>\n",
              "<table border=\"1\" class=\"dataframe\">\n",
              "  <thead>\n",
              "    <tr style=\"text-align: right;\">\n",
              "      <th>education</th>\n",
              "      <th>12th</th>\n",
              "      <th>Bachelors</th>\n",
              "      <th>Masters</th>\n",
              "      <th>Doctorate</th>\n",
              "      <th>All</th>\n",
              "    </tr>\n",
              "    <tr>\n",
              "      <th>sex</th>\n",
              "      <th></th>\n",
              "      <th></th>\n",
              "      <th></th>\n",
              "      <th></th>\n",
              "      <th></th>\n",
              "    </tr>\n",
              "  </thead>\n",
              "  <tbody>\n",
              "    <tr>\n",
              "      <th>Female</th>\n",
              "      <td>144</td>\n",
              "      <td>1619</td>\n",
              "      <td>536</td>\n",
              "      <td>86</td>\n",
              "      <td>2385</td>\n",
              "    </tr>\n",
              "    <tr>\n",
              "      <th>Male</th>\n",
              "      <td>289</td>\n",
              "      <td>3736</td>\n",
              "      <td>1187</td>\n",
              "      <td>327</td>\n",
              "      <td>5539</td>\n",
              "    </tr>\n",
              "    <tr>\n",
              "      <th>All</th>\n",
              "      <td>433</td>\n",
              "      <td>5355</td>\n",
              "      <td>1723</td>\n",
              "      <td>413</td>\n",
              "      <td>7924</td>\n",
              "    </tr>\n",
              "  </tbody>\n",
              "</table>\n",
              "</div>"
            ],
            "text/plain": [
              "education   12th   Bachelors   Masters   Doctorate   All\n",
              "sex                                                     \n",
              " Female      144        1619       536          86  2385\n",
              " Male        289        3736      1187         327  5539\n",
              "All          433        5355      1723         413  7924"
            ]
          },
          "metadata": {
            "tags": []
          },
          "execution_count": 14
        }
      ]
    },
    {
      "cell_type": "code",
      "metadata": {
        "id": "EB21xp-6Tggy",
        "colab_type": "code",
        "colab": {
          "base_uri": "https://localhost:8080/",
          "height": 119
        },
        "outputId": "76c95535-4bda-4e3a-c283-5dfad80a1559"
      },
      "source": [
        "# Sum the values\n",
        "row_sums = education_table.iloc[0:2, 4].values\n",
        "col_sums = education_table.iloc[2, 0:4].values\n",
        "\n",
        "total = education_table.loc['All', 'All']\n",
        "\n",
        "# Create the expected values\n",
        "expected = []\n",
        "for i in range(len(row_sums)):\n",
        "  expected_row = []\n",
        "  for column in col_sums:\n",
        "    expected_val = column * row_sums[i]/total\n",
        "    expected_row.append(expected_val)\n",
        "  expected.append(expected_row)\n",
        "  \n",
        "expected = np.array(expected)\n",
        "print(expected.shape)\n",
        "print(expected)\n",
        "\n",
        "# Create the observed values\n",
        "row_sums = education_table.iloc[0:2, 4].values\n",
        "col_sums = education_table.iloc[2, 0:4].values\n",
        "\n",
        "total = education_table.loc['All', 'All']\n",
        "total\n",
        "\n",
        "observed = []\n",
        "for i in range(len(row_sums)):\n",
        "  observed_row = []\n",
        "  for j in range(len(col_sums)):\n",
        "    observed_row.append(education_table.iloc[i, j])\n",
        "  observed.append(observed_row)\n",
        "  \n",
        "observed = np.array(observed)\n",
        "print(observed.shape)\n",
        "print(observed)\n",
        "\n"
      ],
      "execution_count": 12,
      "outputs": [
        {
          "output_type": "stream",
          "text": [
            "(2, 4)\n",
            "[[ 130.32622413 1611.77120141  518.59603735  124.3065371 ]\n",
            " [ 302.67377587 3743.22879859 1204.40396265  288.6934629 ]]\n",
            "(2, 4)\n",
            "[[ 144 1619  536   86]\n",
            " [ 289 3736 1187  327]]\n"
          ],
          "name": "stdout"
        }
      ]
    },
    {
      "cell_type": "code",
      "metadata": {
        "id": "TuUnOiVxUZyh",
        "colab_type": "code",
        "colab": {
          "base_uri": "https://localhost:8080/",
          "height": 34
        },
        "outputId": "ce1e1e7c-4425-448f-caef-b80cbc972b13"
      },
      "source": [
        "# Compare them using chi-square\n",
        "chi_square = ((observed - expected)**2/(expected)).sum()\n",
        "chi_square"
      ],
      "execution_count": 15,
      "outputs": [
        {
          "output_type": "execute_result",
          "data": {
            "text/plain": [
              "19.821810981923182"
            ]
          },
          "metadata": {
            "tags": []
          },
          "execution_count": 15
        }
      ]
    },
    {
      "cell_type": "markdown",
      "metadata": {
        "id": "xqgc2sYuc3vl",
        "colab_type": "text"
      },
      "source": [
        "#### Binomial Distribution"
      ]
    },
    {
      "cell_type": "code",
      "metadata": {
        "id": "SoD4hfuHanNo",
        "colab_type": "code",
        "colab": {
          "base_uri": "https://localhost:8080/",
          "height": 68
        },
        "outputId": "d727dd25-0d2f-4d10-adf2-8a8d8b194e22"
      },
      "source": [
        "# Binomial distribution  - number of trials, probability of each trial\n",
        "# Result of flipping a coin ten times, tested 1000 times\n",
        "n, p = 10, .5  \n",
        "s = np.random.binomial(n, p, 1000)\n",
        "print(s[0:10], '\\n')\n",
        "\n",
        "# A company drills 9 wild-cat oil exploration wells \n",
        "# each with an estimated probability of success of 0.1\n",
        "# All nine wells fail. What is the probability of that happening?\n",
        "# 20,000 trials of the model counting the number that generate zero positive results.\n",
        "wells_probability = sum(np.random.binomial(9, 0.1, 20000) == 0)/20000.\n",
        "print(wells_probability)"
      ],
      "execution_count": 31,
      "outputs": [
        {
          "output_type": "stream",
          "text": [
            "[6 2 4 8 4 4 7 4 6 9] \n",
            "\n",
            "0.385\n"
          ],
          "name": "stdout"
        }
      ]
    },
    {
      "cell_type": "markdown",
      "metadata": {
        "id": "b2dGFZDIdQYr",
        "colab_type": "text"
      },
      "source": [
        "#### Drawing samples from multiple probability distributions"
      ]
    },
    {
      "cell_type": "code",
      "metadata": {
        "id": "Cj8KRJHHb36F",
        "colab_type": "code",
        "colab": {}
      },
      "source": [
        "from scipy.stats import uniform\n",
        "from scipy.stats import norm\n",
        "from scipy.stats import bernoulli\n",
        "from scipy.stats import binom\n",
        "\n",
        "import seaborn as sns"
      ],
      "execution_count": 0,
      "outputs": []
    },
    {
      "cell_type": "code",
      "metadata": {
        "id": "dJvX4lf2d-oI",
        "colab_type": "code",
        "colab": {
          "base_uri": "https://localhost:8080/",
          "height": 236
        },
        "outputId": "36d27157-d008-4b3b-a1fd-b995481221eb"
      },
      "source": [
        "# random numbers from uniform distribution\n",
        "# Generate 10 numbers from 0 to 10\n",
        "n = 10000\n",
        "a = 0\n",
        "b = 10\n",
        "data_uniform = uniform.rvs(size=n, loc = a, scale=b)\n",
        "\n",
        "ax = sns.distplot(data_uniform,\n",
        "                  bins=100,\n",
        "                  kde=False,\n",
        "                  color='blue',\n",
        "                  hist_kws={\"linewidth\": 5,'alpha':.5})\n",
        "ax.set(xlabel='Uniform ', ylabel='Frequency');"
      ],
      "execution_count": 61,
      "outputs": [
        {
          "output_type": "display_data",
          "data": {
            "image/png": "[encoded data removed]",
            "text/plain": [
              "<Figure size 324x216 with 1 Axes>"
            ]
          },
          "metadata": {
            "tags": []
          }
        }
      ]
    },
    {
      "cell_type": "code",
      "metadata": {
        "id": "V3NXxc6TfyqW",
        "colab_type": "code",
        "colab": {
          "base_uri": "https://localhost:8080/",
          "height": 236
        },
        "outputId": "03e78041-eff0-4b18-fbd8-f1a8cf1d1819"
      },
      "source": [
        "# random numbers from normal distribution\n",
        "# Generate 10,000 random numbers from normal distribution mean=0 and variance=1\n",
        "data_normal = norm.rvs(size=10000,loc=0,scale=1)\n",
        "\n",
        "ax = sns.distplot(data_normal,\n",
        "                  bins=100,\n",
        "                  kde=False,\n",
        "                  color='blue',\n",
        "                  hist_kws={\"linewidth\": 5,'alpha':.5})\n",
        "ax.set(xlabel='Normal ', ylabel='Frequency');"
      ],
      "execution_count": 71,
      "outputs": [
        {
          "output_type": "display_data",
          "data": {
            "image/png": "[encoded data removed]",
            "text/plain": [
              "<Figure size 324x216 with 1 Axes>"
            ]
          },
          "metadata": {
            "tags": []
          }
        }
      ]
    },
    {
      "cell_type": "code",
      "metadata": {
        "id": "ixQQpadMgbRc",
        "colab_type": "code",
        "colab": {
          "base_uri": "https://localhost:8080/",
          "height": 236
        },
        "outputId": "04edbda6-c6f7-4b3b-a570-c2f53d97c228"
      },
      "source": [
        "# random numbers from bernoulli distribution (0 or 1)\n",
        "# Generate 10,000 Bernoulli random numbers with success prob p=0.3\n",
        "data_bern = bernoulli.rvs(size=10000,p=0.3)\n",
        "ax= sns.distplot(data_bern,\n",
        "                 kde=False,\n",
        "                 color=\"blue\",\n",
        "                 hist_kws={\"linewidth\": 5,'alpha':.5})\n",
        "ax.set(xlabel='Bernoulli', ylabel='Frequency');"
      ],
      "execution_count": 72,
      "outputs": [
        {
          "output_type": "display_data",
          "data": {
            "image/png": "[encoded data removed]",
            "text/plain": [
              "<Figure size 324x216 with 1 Axes>"
            ]
          },
          "metadata": {
            "tags": []
          }
        }
      ]
    },
    {
      "cell_type": "code",
      "metadata": {
        "id": "XYsg9eDFgxC2",
        "colab_type": "code",
        "colab": {
          "base_uri": "https://localhost:8080/",
          "height": 236
        },
        "outputId": "e6c141e8-cd56-4561-d2b5-af44beaf0ff8"
      },
      "source": [
        "# random numbers from binomial distribution - # successes in 10 Bernoulli trials with p=0.5\n",
        "data_binom = binom.rvs(n=10,p=0.5,size=10000)\n",
        "ax = sns.distplot(data_binom,\n",
        "                  kde=False,\n",
        "                  color='blue',\n",
        "                  hist_kws={\"linewidth\": 5,'alpha':.5})\n",
        "ax.set(xlabel='Binomial', ylabel='Frequency');\n"
      ],
      "execution_count": 69,
      "outputs": [
        {
          "output_type": "display_data",
          "data": {
            "image/png": "[encoded data removed]",
            "text/plain": [
              "<Figure size 324x216 with 1 Axes>"
            ]
          },
          "metadata": {
            "tags": []
          }
        }
      ]
    },
    {
      "cell_type": "markdown",
      "metadata": {
        "id": "IzGgMVgpNtxh",
        "colab_type": "text"
      },
      "source": [
        "#### Importance of statistics in the context of informing a practical and reliable understanding of the data\n",
        "\n",
        "Statistical knowledge helps you use the proper methods to collect the data, employ the correct analyses, and effectively present the results.\n",
        "\n",
        "Statistics allow you to evaluate claims based on quantitative evidence and help you differentiate between reasonable and dubious conclusions. \n",
        "\n"
      ]
    },
    {
      "cell_type": "markdown",
      "metadata": {
        "id": "8KCdIc3jNztU",
        "colab_type": "text"
      },
      "source": [
        "#### Hypothesis testing to determine an outcome is significant or just due to chance "
      ]
    },
    {
      "cell_type": "code",
      "metadata": {
        "id": "s6mHOL0QMrUo",
        "colab_type": "code",
        "colab": {
          "base_uri": "https://localhost:8080/",
          "height": 85
        },
        "outputId": "ea489569-c964-4534-9d03-72104aa5fc11"
      },
      "source": [
        "# One sample t-test\n",
        "# Checking to see if average age is 30 - the null hypothesis\n",
        "\n",
        "from scipy.stats import ttest_1samp\n",
        "import numpy as np\n",
        "\n",
        "ages = [10, 20, 30, 40, 50, 60, 65, 75, 80, 90]\n",
        "print(ages)\n",
        "ages_mean = np.mean(ages)\n",
        "print(ages_mean)\n",
        "tset, pval = ttest_1samp(ages, 30)\n",
        "print('p-values',pval)\n",
        "if pval < 0.05:    # alpha value is 0.05 or 5%\n",
        "   print(\"we are rejecting null hypothesis\")\n",
        "else:\n",
        "  print(\"we are accepting null hypothesis\")"
      ],
      "execution_count": 75,
      "outputs": [
        {
          "output_type": "stream",
          "text": [
            "[10, 20, 30, 40, 50, 60, 65, 75, 80, 90]\n",
            "52.0\n",
            "p-values 0.028417492065723665\n",
            "we are rejecting null hypothesis\n"
          ],
          "name": "stdout"
        }
      ]
    },
    {
      "cell_type": "code",
      "metadata": {
        "id": "Sc0yO6TNw7GO",
        "colab_type": "code",
        "colab": {
          "base_uri": "https://localhost:8080/",
          "height": 119
        },
        "outputId": "bcf7cfa6-58e1-4718-ea48-40f3f2e52da9"
      },
      "source": [
        "# Two sample t-test\n",
        "# Checking to see if NBA players and NFL players have the same average height - the null hypothesis\n",
        "from scipy.stats import ttest_ind\n",
        "import numpy as np\n",
        "\n",
        "nba_heights = [74, 80, 74, 85, 76, 81, 82, 76, 83, 81, 77, 76, 83, 80, 81]\n",
        "nfl_heights = [71, 70, 76, 74, 81, 70, 78, 77, 75, 74, 73, 71, 76, 78, 71]\n",
        "\n",
        "nba_mean = np.mean(nba_heights)\n",
        "nfl_mean = np.mean(nfl_heights)\n",
        "print('nba mean value:', nba_mean)\n",
        "print('nfl mean value:', nfl_mean)\n",
        "nba_std = np.std(nba_heights)\n",
        "nfl_std = np.std(nfl_heights)\n",
        "print('nba std value:', nba_std)\n",
        "print('nfl std value:', nfl_std)\n",
        "ttest,pval = ttest_ind(nba_heights, nfl_heights)\n",
        "print(\"p-value\",pval)\n",
        "if pval <0.05:\n",
        "  print(\"we reject null hypothesis\")\n",
        "else:\n",
        "  print(\"we accept null hypothesis\")"
      ],
      "execution_count": 78,
      "outputs": [
        {
          "output_type": "stream",
          "text": [
            "nba mean value: 79.26666666666667\n",
            "nfl mean value: 74.33333333333333\n",
            "nba std value: 3.3757303736459106\n",
            "nfl std value: 3.2386554137309655\n",
            "p-value 0.00048582427681116296\n",
            "we reject null hypothesis\n"
          ],
          "name": "stdout"
        }
      ]
    },
    {
      "cell_type": "markdown",
      "metadata": {
        "id": "ZQ6uCMmhN4C6",
        "colab_type": "text"
      },
      "source": [
        "#### Determine the level of confidence for a possible outcome"
      ]
    },
    {
      "cell_type": "code",
      "metadata": {
        "id": "l20VnvIbM6b0",
        "colab_type": "code",
        "colab": {}
      },
      "source": [
        "def confidence_interval(data, confidence=0.95):\n",
        "  \"\"\"\n",
        "  Calculate a confidence interval around a sample mean for given data.\n",
        "  Using t-distribution and two-tailed test, default 95% confidence. \n",
        "  \n",
        "  Arguments:\n",
        "    data - iterable (list or numpy array) of sample observations\n",
        "    confidence - level of confidence for the interval\n",
        "  \n",
        "  Returns:\n",
        "    tuple of (mean, lower bound, upper bound)\n",
        "  \"\"\"\n",
        "  data = np.array(data)\n",
        "  mean = np.mean(data)\n",
        "  n = len(data)\n",
        "  stderr = stats.sem(data)\n",
        "  interval = stderr * stats.t.ppf((1 + confidence) / 2.0, n - 1)\n",
        "  return (mean, mean - interval, mean + interval)\n",
        "\n"
      ],
      "execution_count": 0,
      "outputs": []
    },
    {
      "cell_type": "markdown",
      "metadata": {
        "id": "zc4opiqKODxU",
        "colab_type": "text"
      },
      "source": [
        "#### Derive Bayes theorem from the Law of Conditional Probability"
      ]
    },
    {
      "cell_type": "code",
      "metadata": {
        "id": "-OsVsme8NAhJ",
        "colab_type": "code",
        "colab": {}
      },
      "source": [
        ""
      ],
      "execution_count": 0,
      "outputs": []
    },
    {
      "cell_type": "markdown",
      "metadata": {
        "id": "8HATKe9fOJVH",
        "colab_type": "text"
      },
      "source": [
        "#### Calculate Bayesian confidence intervals"
      ]
    },
    {
      "cell_type": "code",
      "metadata": {
        "id": "yUGz_iu5NK90",
        "colab_type": "code",
        "colab": {
          "base_uri": "https://localhost:8080/",
          "height": 153
        },
        "outputId": "4524419a-a577-4720-bafd-44f573ad0759"
      },
      "source": [
        "from scipy import stats\n",
        "\n",
        "data = [6, 9, 12, 7, 8, 8, 13]\n",
        "mean, var, std = stats.bayes_mvs(data)\n",
        "print(mean)\n",
        "print(var)\n",
        "print(std)\n",
        "print('\\n')\n",
        "\n",
        "print(mean.statistic)\n",
        "print(mean.minmax[0])\n",
        "print(mean.minmax[1])"
      ],
      "execution_count": 85,
      "outputs": [
        {
          "output_type": "stream",
          "text": [
            "Mean(statistic=9.0, minmax=(7.103650222612533, 10.896349777387467))\n",
            "Variance(statistic=10.0, minmax=(3.1767242068607078, 24.45910382133402))\n",
            "Std_dev(statistic=2.9724954732045084, minmax=(1.7823367265645143, 4.945614605014631))\n",
            "\n",
            "\n",
            "9.0\n",
            "7.103650222612533\n",
            "10.896349777387467\n"
          ],
          "name": "stdout"
        }
      ]
    },
    {
      "cell_type": "markdown",
      "metadata": {
        "id": "xYl22xJ5ONlY",
        "colab_type": "text"
      },
      "source": [
        "#### Deploy a simple static (front-end) A/B-instrumented webpage"
      ]
    },
    {
      "cell_type": "code",
      "metadata": {
        "id": "l-LYwssqNPOc",
        "colab_type": "code",
        "colab": {}
      },
      "source": [
        ""
      ],
      "execution_count": 0,
      "outputs": []
    },
    {
      "cell_type": "markdown",
      "metadata": {
        "id": "zGQErzNoORXc",
        "colab_type": "text"
      },
      "source": [
        "#### Evaluate and summarize findings from real-world A/B test data"
      ]
    },
    {
      "cell_type": "code",
      "metadata": {
        "id": "uc1bhKh3NZst",
        "colab_type": "code",
        "colab": {}
      },
      "source": [
        ""
      ],
      "execution_count": 0,
      "outputs": []
    }
  ]
}